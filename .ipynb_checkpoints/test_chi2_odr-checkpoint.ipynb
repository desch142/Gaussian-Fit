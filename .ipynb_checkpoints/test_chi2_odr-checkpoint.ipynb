{
 "cells": [
  {
   "cell_type": "code",
   "execution_count": 32,
   "metadata": {},
   "outputs": [],
   "source": [
    "import matplotlib\n",
    "import matplotlib.pyplot as pl\n",
    "import matplotlib.colors as colors\n",
    "import numpy as np\n",
    "import scipy as sc\n",
    "import scipy.odr as odr\n",
    "import scipy.optimize as op"
   ]
  },
  {
   "cell_type": "markdown",
   "metadata": {},
   "source": [
    "# Scipy ODR"
   ]
  },
  {
   "cell_type": "code",
   "execution_count": 61,
   "metadata": {},
   "outputs": [],
   "source": [
    "#define fit function\n",
    "def lin(x,*p):\n",
    "    return p[0]+p[1]*x\n",
    "\n",
    "#create fake data with y errors only\n",
    "x=[0,1,2,3,4,5]\n",
    "y=[2,3,6,7.5,9,12.3]\n",
    "y_err=[0.1,0.2,0.4,0.05,0.02,0.73]"
   ]
  },
  {
   "cell_type": "code",
   "execution_count": 78,
   "metadata": {},
   "outputs": [
    {
     "name": "stdout",
     "output_type": "stream",
     "text": [
      "Beta: [1.46948555 2.06089763]\n",
      "Beta Std Error: [0.45019096 0.15170954]\n",
      "Beta Covariance: [[ 2.2987314  -0.64048443]\n",
      " [-0.64048443  0.26104806]]\n",
      "Residual Variance: 0.08816684912274778\n",
      "Inverse Condition #: 0.16656286207902388\n",
      "Reason(s) for Halting:\n",
      "  Sum of squares convergence\n"
     ]
    },
    {
     "data": {
      "text/plain": [
       "[<matplotlib.lines.Line2D at 0x7f6ac4e06590>]"
      ]
     },
     "execution_count": 78,
     "metadata": {},
     "output_type": "execute_result"
    },
    {
     "data": {
      "image/png": "[encoded data removed]",
      "text/plain": [
       "<Figure size 432x288 with 1 Axes>"
      ]
     },
     "metadata": {
      "needs_background": "light"
     },
     "output_type": "display_data"
    }
   ],
   "source": [
    "#fit with odr\n",
    "def lin_odr(p,x):\n",
    "    return p[0]+p[1]*x\n",
    "\n",
    "func=sc.odr.Model(lin_odr)\n",
    "#need to take very small error, taking x error as zero doesn't work\n",
    "mydata=sc.odr.RealData(x,y, sy=y_err)\n",
    "myodr=sc.odr.ODR(mydata, func, beta0=[2,2])\n",
    "myoutput=myodr.run()\n",
    "myoutput.pprint()\n",
    "\n",
    "pl.plot(x,y)\n",
    "x_f, y_f = np.linspace(0,5,1000), lin(np.linspace(0,5,1000),*myoutput.beta)\n",
    "pl.plot(x_f, y_f)"
   ]
  },
  {
   "cell_type": "markdown",
   "metadata": {},
   "source": [
    "# Scipy curve_fit"
   ]
  },
  {
   "cell_type": "code",
   "execution_count": 72,
   "metadata": {},
   "outputs": [
    {
     "name": "stdout",
     "output_type": "stream",
     "text": [
      "[2.06896934 1.73916063]\n",
      "[0.27674734 0.07291273]\n"
     ]
    },
    {
     "data": {
      "text/plain": [
       "[<matplotlib.lines.Line2D at 0x7f6ac4facd10>]"
      ]
     },
     "execution_count": 72,
     "metadata": {},
     "output_type": "execute_result"
    },
    {
     "data": {
      "image/png": "[encoded data removed]",
      "text/plain": [
       "<Figure size 432x288 with 1 Axes>"
      ]
     },
     "metadata": {
      "needs_background": "light"
     },
     "output_type": "display_data"
    }
   ],
   "source": [
    "popt, pconv=op.curve_fit(lin, x, y, sigma=y_err,p0=[1,1],maxfev=10**6)\n",
    "print(popt)\n",
    "print(np.sqrt(pconv.diagonal()))\n",
    "\n",
    "pl.plot(x,y)\n",
    "x_f, y_f = np.linspace(0,5,1000), lin(np.linspace(0,5,1000),*popt)\n",
    "pl.plot(x_f, y_f)"
   ]
  },
  {
   "cell_type": "code",
   "execution_count": 42,
   "metadata": {},
   "outputs": [
    {
     "name": "stdout",
     "output_type": "stream",
     "text": [
      "[ 0.37601734 -0.26976547]\n",
      "[ 0.00469644 -0.02657092]\n"
     ]
    }
   ],
   "source": [
    "print(popt - myoutput.beta)\n",
    "print(np.sqrt(pconv.diagonal()) - myoutput.sd_beta)"
   ]
  },
  {
   "cell_type": "markdown",
   "metadata": {},
   "source": [
    "The determined fit parameters and their respective errors only differ from each other marginally. However, the scipy odr method requires a different format for the fit function. Comparing the time needed for the fit:"
   ]
  },
  {
   "cell_type": "markdown",
   "metadata": {},
   "source": [
    "# Comparing run times"
   ]
  },
  {
   "cell_type": "code",
   "execution_count": 31,
   "metadata": {},
   "outputs": [
    {
     "name": "stdout",
     "output_type": "stream",
     "text": [
      "--- 0.0005755424499511719 seconds ---\n",
      "--- 0.0009298324584960938 seconds ---\n"
     ]
    }
   ],
   "source": [
    "import time\n",
    "start_time = time.time()\n",
    "#fit with odr\n",
    "func=sc.odr.Model(lin)\n",
    "#need to take very small error, taking x error as zero doesn't work\n",
    "mydata=sc.odr.RealData(x,y,sx=np.repeat(10**-100,6), sy=y_err)\n",
    "myodr=sc.odr.ODR(mydata, func, beta0=[1,1])\n",
    "myoutput=myodr.run()\n",
    "print(\"--- %s seconds ---\" % (time.time() - start_time))\n",
    "\n",
    "start_time = time.time()\n",
    "popt, pconv=op.curve_fit(lin2, x, y, sigma=y_err, maxfev=10**6)\n",
    "print(\"--- %s seconds ---\" % (time.time() - start_time))"
   ]
  },
  {
   "cell_type": "markdown",
   "metadata": {},
   "source": [
    "# Preliminary conclusion "
   ]
  },
  {
   "cell_type": "markdown",
   "metadata": {},
   "source": [
    "ODR is actually slightly faster than curve_fit. Therefore it might be the easiest way to use the ODR fit method with a single fit function.\n",
    "\n",
    "If no error on x is present, one simply assumes a very small x error. It remains to be seen how stable ODR works with sums of gaussians."
   ]
  },
  {
   "cell_type": "code",
   "execution_count": null,
   "metadata": {},
   "outputs": [],
   "source": []
  }
 ],
 "metadata": {
  "kernelspec": {
   "display_name": "Python 3",
   "language": "python",
   "name": "python3"
  },
  "language_info": {
   "codemirror_mode": {
    "name": "ipython",
    "version": 3
   },
   "file_extension": ".py",
   "mimetype": "text/x-python",
   "name": "python",
   "nbconvert_exporter": "python",
   "pygments_lexer": "ipython3",
   "version": "3.7.7"
  }
 },
 "nbformat": 4,
 "nbformat_minor": 4
}
