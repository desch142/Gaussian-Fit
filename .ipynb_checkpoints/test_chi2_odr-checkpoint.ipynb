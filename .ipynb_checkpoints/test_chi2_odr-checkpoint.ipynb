{
 "cells": [
  {
   "cell_type": "code",
   "execution_count": 2,
   "metadata": {},
   "outputs": [],
   "source": [
    "import matplotlib\n",
    "import matplotlib.pyplot as pl\n",
    "import matplotlib.colors as colors\n",
    "import numpy as np\n",
    "import scipy as sc\n",
    "import scipy.odr as odr\n",
    "import scipy.optimize as op"
   ]
  },
  {
   "cell_type": "markdown",
   "metadata": {},
   "source": [
    "# Scipy ODR"
   ]
  },
  {
   "cell_type": "code",
   "execution_count": 4,
   "metadata": {},
   "outputs": [
    {
     "name": "stdout",
     "output_type": "stream",
     "text": [
      "[ 0.73499294  3.16446753  7.10628611 10.88280284  9.31003153 11.85019285]\n",
      "[0.76044547 1.38961218 1.72945714 1.11316919 1.77514833 0.25340489]\n",
      "--- 0.0007724761962890625 seconds ---\n",
      "[1.03094241 2.44465453]\n",
      "[1.26251493 0.41523793]\n",
      "--- 0.0060482025146484375 seconds ---\n",
      "[1.39528616 2.11097581]\n",
      "[1.03091415 0.22533569]\n"
     ]
    },
    {
     "data": {
      "text/plain": [
       "[<matplotlib.lines.Line2D at 0x7fa94eeb7050>]"
      ]
     },
     "execution_count": 4,
     "metadata": {},
     "output_type": "execute_result"
    },
    {
     "data": {
      "image/png": "[encoded data removed]",
      "text/plain": [
       "<Figure size 576x360 with 1 Axes>"
      ]
     },
     "metadata": {
      "needs_background": "light"
     },
     "output_type": "display_data"
    }
   ],
   "source": [
    "#define fit function\n",
    "def lin(x,*p):\n",
    "    return p[0]+p[1]*x\n",
    "\n",
    "#create fake data with y errors only\n",
    "x=np.array([0,1,2,3,4,5])\n",
    "y=x*2+5*np.random.rand(6)\n",
    "print(y)\n",
    "y_err=2-2*np.random.rand(6)\n",
    "print(y_err)\n",
    "\n",
    "\n",
    "#fit with odr\n",
    "def lin_odr(p,x):\n",
    "    return lin(x,*p)\n",
    "import time\n",
    "start_time = time.time()\n",
    "func=sc.odr.Model(lin_odr)\n",
    "#need to take very small error, taking x error as zero doesn't work\n",
    "mydata=sc.odr.RealData(x,y, sy=y_err)\n",
    "myodr=sc.odr.ODR(mydata, func, beta0=[2,2])\n",
    "myoutput=myodr.run()\n",
    "print(\"--- %s seconds ---\" % (time.time() - start_time))\n",
    "print(myoutput.beta)\n",
    "print(myoutput.sd_beta)\n",
    "\n",
    "pl.figure(figsize=(8,5))\n",
    "pl.errorbar(x,y,yerr=y_err, marker='.',markersize=10, linestyle='')\n",
    "x_f, y_f = np.linspace(0,5,1000), lin(np.linspace(0,5,1000),*myoutput.beta)\n",
    "pl.plot(x_f, y_f)\n",
    "start_time = time.time()\n",
    "popt, pconv=op.curve_fit(lin, x, y,p0=[1,1], sigma=y_err,maxfev=10**6)\n",
    "print(\"--- %s seconds ---\" % (time.time() - start_time))\n",
    "print(popt)\n",
    "print(np.sqrt(pconv.diagonal()))\n",
    "\n",
    "x_f, y_f = np.linspace(0,5,1000), lin(np.linspace(0,5,1000),*popt)\n",
    "pl.plot(x_f, y_f)\n"
   ]
  },
  {
   "cell_type": "markdown",
   "metadata": {},
   "source": [
    "ODR and Chi2 yield different results, therefore one should only use ODR if x-errors are present. If the data only features y-errors one should use the standard Chi2 fit."
   ]
  },
  {
   "cell_type": "code",
   "execution_count": null,
   "metadata": {},
   "outputs": [],
   "source": []
  }
 ],
 "metadata": {
  "kernelspec": {
   "display_name": "Python 3",
   "language": "python",
   "name": "python3"
  },
  "language_info": {
   "codemirror_mode": {
    "name": "ipython",
    "version": 3
   },
   "file_extension": ".py",
   "mimetype": "text/x-python",
   "name": "python",
   "nbconvert_exporter": "python",
   "pygments_lexer": "ipython3",
   "version": "3.7.7"
  }
 },
 "nbformat": 4,
 "nbformat_minor": 4
}
