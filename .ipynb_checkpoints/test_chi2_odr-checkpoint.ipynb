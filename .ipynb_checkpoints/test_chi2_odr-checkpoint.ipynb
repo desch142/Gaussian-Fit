{
 "cells": [
  {
   "cell_type": "code",
   "execution_count": 4,
   "metadata": {},
   "outputs": [],
   "source": [
    "import matplotlib\n",
    "import matplotlib.pyplot as pl\n",
    "import matplotlib.colors as colors\n",
    "import numpy as np\n",
    "import scipy as sc\n",
    "import scipy.odr as odr\n",
    "import scipy.optimize as op"
   ]
  },
  {
   "cell_type": "markdown",
   "metadata": {},
   "source": [
    "# Scipy ODR"
   ]
  },
  {
   "cell_type": "code",
   "execution_count": 5,
   "metadata": {},
   "outputs": [],
   "source": [
    "#define fit function\n",
    "def lin(B,x):\n",
    "    return B[0]+B[1]*x\n",
    "\n",
    "#create fake data with y errors only\n",
    "x=[0,1,2,3,4,5]\n",
    "y=[1,3,6,7.5,9,12.3]\n",
    "y_err=[0.1,0.2,0.4,0.05,0.02,0.73]"
   ]
  },
  {
   "cell_type": "code",
   "execution_count": 15,
   "metadata": {},
   "outputs": [
    {
     "name": "stdout",
     "output_type": "stream",
     "text": [
      "Beta: [1.34621621 1.92518566]\n",
      "Beta Std Error: [0.38936889 0.1025843 ]\n",
      "Beta Covariance: [[ 0.00722753 -0.00186025]\n",
      " [-0.00186025  0.00050168]]\n",
      "Residual Variance: 20.976492214235776\n",
      "Inverse Condition #: 0.04666122989906129\n",
      "Reason(s) for Halting:\n",
      "  Sum of squares convergence\n"
     ]
    }
   ],
   "source": [
    "#fit with odr\n",
    "func=sc.odr.Model(lin)\n",
    "#need to take very small error, taking x error as zero doesn't work\n",
    "mydata=sc.odr.RealData(x,y,sx=np.repeat(10**-100,6), sy=y_err)\n",
    "myodr=sc.odr.ODR(mydata, func, beta0=[1,1])\n",
    "myoutput=myodr.run()\n",
    "myoutput.pprint()"
   ]
  },
  {
   "cell_type": "markdown",
   "metadata": {},
   "source": [
    "# Scipy curve_fit"
   ]
  },
  {
   "cell_type": "code",
   "execution_count": 23,
   "metadata": {},
   "outputs": [],
   "source": [
    "#define fit function\n",
    "def lin2(x,a,b):\n",
    "    return a+b*x\n",
    "\n",
    "#create fake data with y errors only\n",
    "x=[0,1,2,3,4,5]\n",
    "y=[1,3,6,7.5,9,12.3]\n",
    "y_err=[0.1,0.2,0.4,0.05,0.02,0.73]"
   ]
  },
  {
   "cell_type": "code",
   "execution_count": 26,
   "metadata": {},
   "outputs": [
    {
     "name": "stdout",
     "output_type": "stream",
     "text": [
      "[1.34621621 1.92518566]\n",
      "[0.38936904 0.10258439]\n"
     ]
    }
   ],
   "source": [
    "popt, pconv=op.curve_fit(lin2, x, y, sigma=y_err, maxfev=10**6)\n",
    "print(popt)\n",
    "print(np.sqrt(pconv.diagonal()))"
   ]
  },
  {
   "cell_type": "code",
   "execution_count": 29,
   "metadata": {},
   "outputs": [
    {
     "name": "stdout",
     "output_type": "stream",
     "text": [
      "[-1.39076128e-09  3.67772479e-10]\n",
      "[1.49131626e-07 8.87139031e-08]\n"
     ]
    }
   ],
   "source": [
    "print(popt - myoutput.beta)\n",
    "print(np.sqrt(pconv.diagonal()) - myoutput.sd_beta)"
   ]
  },
  {
   "cell_type": "markdown",
   "metadata": {},
   "source": [
    "The determined fit parameters and their respective errors only differ from each other marginally. However, the scipy odr method requires a different format for the fit function. Comparing the time needed for the fit:"
   ]
  },
  {
   "cell_type": "markdown",
   "metadata": {},
   "source": [
    "# Comparing run times"
   ]
  },
  {
   "cell_type": "code",
   "execution_count": 31,
   "metadata": {},
   "outputs": [
    {
     "name": "stdout",
     "output_type": "stream",
     "text": [
      "--- 0.0005755424499511719 seconds ---\n",
      "--- 0.0009298324584960938 seconds ---\n"
     ]
    }
   ],
   "source": [
    "import time\n",
    "start_time = time.time()\n",
    "#fit with odr\n",
    "func=sc.odr.Model(lin)\n",
    "#need to take very small error, taking x error as zero doesn't work\n",
    "mydata=sc.odr.RealData(x,y,sx=np.repeat(10**-100,6), sy=y_err)\n",
    "myodr=sc.odr.ODR(mydata, func, beta0=[1,1])\n",
    "myoutput=myodr.run()\n",
    "print(\"--- %s seconds ---\" % (time.time() - start_time))\n",
    "\n",
    "start_time = time.time()\n",
    "popt, pconv=op.curve_fit(lin2, x, y, sigma=y_err, maxfev=10**6)\n",
    "print(\"--- %s seconds ---\" % (time.time() - start_time))"
   ]
  },
  {
   "cell_type": "markdown",
   "metadata": {},
   "source": [
    "# Preliminary conclusion "
   ]
  },
  {
   "cell_type": "markdown",
   "metadata": {},
   "source": [
    "ODR is actually slightly faster than curve_fit. Therefore it might be the easiest way to use the ODR fit method with a single fit function.\n",
    "\n",
    "If no error on x is present, one simply assumes a very small x error. It remains to be seen how stable ODR works with sums of gaussians."
   ]
  },
  {
   "cell_type": "code",
   "execution_count": null,
   "metadata": {},
   "outputs": [],
   "source": []
  }
 ],
 "metadata": {
  "kernelspec": {
   "display_name": "Python 3",
   "language": "python",
   "name": "python3"
  },
  "language_info": {
   "codemirror_mode": {
    "name": "ipython",
    "version": 3
   },
   "file_extension": ".py",
   "mimetype": "text/x-python",
   "name": "python",
   "nbconvert_exporter": "python",
   "pygments_lexer": "ipython3",
   "version": "3.7.7"
  }
 },
 "nbformat": 4,
 "nbformat_minor": 4
}
